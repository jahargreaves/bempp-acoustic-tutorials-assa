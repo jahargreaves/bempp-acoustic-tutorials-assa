{
 "cells": [
  {
   "cell_type": "markdown",
   "metadata": {},
   "source": [
    "# Bempp acoustics exercises\n",
    "\n",
    "This repository contains tutorials and exercises designed to show you how to use Bempp to solve problems in acoustics.\n",
    "These materials were designed to be part of the [EAA / UKAN Computational Acoustics Summer School](https://acoustics.ac.uk/events/4468/).\n",
    "\n",
    "## Contents\n",
    "- Using the null field approach\n",
    "  - [Tutorial 1: Scattering from a rigid sphere using a null field approach](tutorials/1_sphere_scatterer_null_field.ipynb)\n",
    "  - [Exercise 1: Uniqueness](exercises/1b_uniqueness.ipynb)\n",
    "- Direct formulations\n",
    "  - [Tutorial 2: Scattering from a rigid sphere using a direct formulation](tutorials/2_sphere_scatterer_direct.ipynb)\n",
    "  - [Exercise 2: Scattering from a pressure-release sphere](exercises/2_sphere_scatterer.ipynb)\n",
    "\n",
    "\n",
    "### Unfinished\n",
    "\n",
    "- Impedence boundary conditions\n",
    "  - [Tutorial 3: Scattering from a impedence sphere](tutorials/3_impedence_scattering.ipynb)\n",
    "  - [Exercise 3: Different impedences](exercises/3_impedences.ipynb)\n",
    "- Room acoustics\n",
    "  - [Tutorial 4: Room acoustics](tutorials/4_room_acoustics.ipynb)\n",
    "  - [Exercise 4: Comparing to an analytic soution](exercises/4_analytic_solution.ipynb)\n",
    "- More example applications\n",
    "  - [Tutorial 5: Loudspeaker](tutorials/5_loudspeaker.ipynb)\n",
    "  - [Tutorial 6: FEM-BEM coupling with FEniCSx](tutorials/6_fenicsx.ipynb)\n",
    "- [Further information](tutorials/7_more.ipynb)\n"
   ]
  }
 ],
 "metadata": {
  "kernelspec": {
   "display_name": "Python 3",
   "language": "python",
   "name": "python3"
  },
  "language_info": {
   "codemirror_mode": {
    "name": "ipython",
    "version": 3
   },
   "file_extension": ".py",
   "mimetype": "text/x-python",
   "name": "python",
   "nbconvert_exporter": "python",
   "pygments_lexer": "ipython3",
   "version": "3.8.10"
  }
 },
 "nbformat": 4,
 "nbformat_minor": 4
}
