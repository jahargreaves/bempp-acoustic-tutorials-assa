{
 "cells": [
  {
   "cell_type": "markdown",
   "metadata": {},
   "source": [
    "# Bempp acoustics exercises\n",
    "\n",
    "This repository contains tutorials and exercises designed to show you how to use Bempp to solve problems in acoustics. It has been prepared for the [ASSA Autumn School Series in Acoustics 2024](https://assaeindhoven.org/), which included a Computational Acoustics stream with a day on Boundary Element Method taught by [Dr Jonathan A. Hargreaves](https://salford-repository.worktribe.com/person/1159647/jonathan-hargreaves). It is a subset of the materials in [this reposity](https://github.com/mscroggs/bempp-acoustic-tutorials), which was prepared with [Matthew Scroggs](https://orcid.org/0000-0002-4658-2443) for the [EAA / UKAN Computational Acoustics Summer School](https://acoustics.ac.uk/events/4468/) in 2021. \n",
    "\n",
    "They have all been created in [Jupyter Notebooks](https://jupyter.org/), which allow you to see code, explanation and results all alongside.\n",
    "\n",
    "## Contents\n",
    "- [Instructions for installing Bempp](tutorials/0_install.ipynb)\n",
    "- Using the null field approach (an indirect BEM formulation that follows Jonathan Hargreaves' explanation in the lectures)\n",
    "  - [Tutorial 1: Scattering from a rigid sphere using a null field approach](tutorials/1_sphere_scatterer_null_field.ipynb)\n",
    "  - [Exercise 1: Uniqueness](exercises/1_uniqueness.ipynb)\n",
    "- Alternative Direct formulation by Matthew Scroggs\n",
    "  - [Tutorial 2: Scattering from a rigid sphere using a direct formulation](tutorials/2_sphere_scatterer_direct.ipynb)\n",
    "- Impedence boundary conditions\n",
    "  - [Tutorial 4: Scattering from a impedence sphere](tutorials/4_impedence_scattering.ipynb)\n",
    "- Radiation Problems\n",
    "  - [Tutorial 5: Loudspeaker radiation](tutorials/5_loudspeaker.ipynb)\n",
    "- [Further information](tutorials/7_more.ipynb)\n",
    "\n",
    "\n",
    "## Notation differences between these tutorials and the Bempp documentation\n",
    "The bempp website includes a [handbook](https://bempp.com/handbook/index.html), which gives an introduction to how the library operates, and [automatically generated full Python documentation](https://bempp-cl.readthedocs.io/en/latest/), which is useful for looking up specific details once you already understand the main principles for using Bempp. But that documentation uses a different operator notation to what is used in these tutorials, which follow the Jonathan Hargreaves's slides from the summer school.\n",
    "\n",
    "Here is a summary of the differences:\n",
    "\n",
    "Operator | Notation used herein | Notation used in Bempp documentation\n",
    "-------- | -------------------- | ------------------------------------\n",
    "Identity | I                    | Id\n",
    "Single layer | S                | V\n",
    "Double layer | D                | K\n",
    "Adjoint double layer | A        | K'\n",
    "Hypersingular | H               | W\n"
   ]
  },
  {
   "cell_type": "code",
   "execution_count": null,
   "metadata": {},
   "outputs": [],
   "source": []
  },
  {
   "cell_type": "code",
   "execution_count": null,
   "metadata": {},
   "outputs": [],
   "source": []
  }
 ],
 "metadata": {
  "kernelspec": {
   "display_name": "Python 3 (ipykernel)",
   "language": "python",
   "name": "python3"
  },
  "language_info": {
   "codemirror_mode": {
    "name": "ipython",
    "version": 3
   },
   "file_extension": ".py",
   "mimetype": "text/x-python",
   "name": "python",
   "nbconvert_exporter": "python",
   "pygments_lexer": "ipython3",
   "version": "3.9.12"
  }
 },
 "nbformat": 4,
 "nbformat_minor": 4
}
