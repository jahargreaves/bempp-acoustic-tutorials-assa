{
 "cells": [
  {
   "cell_type": "markdown",
   "metadata": {},
   "source": [
    "# Exercise 4: An inverse problem"
   ]
  },
  {
   "cell_type": "markdown",
   "metadata": {},
   "source": [
    "In this exercise, we will look at an inverse problem: a plane wave of the form\n",
    "\n",
    "$$\n",
    "p_\\text{inc}(\\mathbf{x}) = \\mathrm{e}^{\\mathrm{i}k(x_0\\cos\\theta+x_1\\sin\\theta)}\n",
    "$$\n",
    "\n",
    "with a certain value of $\\theta$ has been fired at the sphere in [example 4](../tutorials/4_impedence_scattering.ipynb). The following far field scattering pattern was observed.\n",
    "\n",
    "![Far field pattern](far-field.png)\n",
    "\n",
    "The observed values in this far field have been saved in the file `far_field.npy`. This data can be loaded using the following code. This data was generated using the same points as in [example 4](../tutorials/4_impedence_scattering.ipynb)."
   ]
  },
  {
   "cell_type": "code",
   "execution_count": 1,
   "metadata": {},
   "outputs": [],
   "source": [
    "import numpy as np\n",
    "\n",
    "observed_data = np.load(\"far_field.npy\")"
   ]
  },
  {
   "cell_type": "markdown",
   "metadata": {
    "scrolled": false
   },
   "source": [
    "Your task is to adapt the code in [example 4](../tutorials/4_impedence_scattering.ipynb) to solve the problem with the incident wave given above and adjust $\\theta$ to obtain a scattering pattern as close to that shown above as possible.\n",
    "\n",
    "You might like to use a `for` loop to try multiple values of $\\theta$ at once, or use `np.linalg.norm` to compute the difference between the loaded data and the data you compute."
   ]
  },
  {
   "cell_type": "code",
   "execution_count": null,
   "metadata": {},
   "outputs": [],
   "source": []
  },
  {
   "cell_type": "markdown",
   "metadata": {},
   "source": [
    "## What next?\n",
    "\n",
    "After attempting this exercise, you could read [tutorial 5](../tutorials/5_loudspeaker.ipynb), [tutorial 6](../tutorials/6_fenicsx.ipynb), or [follow the links to more Bempp documentation](../tutorials/7_more.ipynb)"
   ]
  }
 ],
 "metadata": {
  "kernelspec": {
   "display_name": "Python 3",
   "language": "python",
   "name": "python3"
  },
  "language_info": {
   "codemirror_mode": {
    "name": "ipython",
    "version": 3
   },
   "file_extension": ".py",
   "mimetype": "text/x-python",
   "name": "python",
   "nbconvert_exporter": "python",
   "pygments_lexer": "ipython3",
   "version": "3.8.10"
  }
 },
 "nbformat": 4,
 "nbformat_minor": 4
}
