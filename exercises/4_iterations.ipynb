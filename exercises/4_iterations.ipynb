{
 "cells": [
  {
   "cell_type": "markdown",
   "metadata": {},
   "source": [
    "# Exercise 4: Iteration counts"
   ]
  },
  {
   "cell_type": "markdown",
   "metadata": {},
   "source": [
    "## The problem\n",
    "\n",
    "In [the fourth tutorial](../tutorials/4_convergence.ipynb), we looked at how to plot the convergence of the BEM soltution to the actual solution. In this exercise, we we look at how to examine the number of iterations taken to solve a BEM system."
   ]
  },
  {
   "cell_type": "markdown",
   "metadata": {},
   "source": [
    "## The formulation\n",
    "\n",
    "In this exercise we will use the same formulation as in [the fourth tutorial](../tutorials/4_convergence.ipynb).\n",
    "\n",
    "### Representation formula\n",
    "\n",
    "$$\n",
    "p = \\mathcal{D}p-\\mathcal{S}\\frac{\\partial p}{\\partial \\mathbf{n}}\n",
    "$$\n",
    "\n",
    "where $\\mathcal{S}$ is the single layer potential operator and $\\mathcal{D}$ is the double layer potential operator.\n",
    "\n",
    "### Boundary integral equation\n",
    "\n",
    "$$\n",
    "(\\mathsf{D}+\\tfrac{1}{2}\\mathsf{I})p=\\mathsf{S}\\frac{\\partial p}{\\partial \\mathbf{n}},\n",
    "$$\n",
    "\n",
    "where $\\mathsf{S}$ is the single layer boundary operator; $\\mathsf{D}$ is the double layer boundary operator; and $\\mathsf{I}$ is the identity operator."
   ]
  },
  {
   "cell_type": "markdown",
   "metadata": {},
   "source": [
    "## Iteration counts\n",
    "\n",
    "GMRES, the solver we have been using in these tutorials and examples, is an iterative solver. The number of iterations needed to solve a system gives us some useful information about performance: if the number of iterations quickly grows as we increase the number of elements, performance will be bad; but if the number of iterations doesn't grow as we increase the number of the elements, then performance will scale well as we increase the problem size.\n",
    "\n",
    "In Bempp, you can get the iteration count from GMRES using the `return_iteration_count` argument, for example:\n",
    "```\n",
    "p_total, info, iterations = gmres(double_layer + 0.5 * identity, single_layer * lambda_fun, tol=1E-5,\n",
    "                                  return_iteration_count=True)\n",
    "```\n",
    "\n",
    "Your task is to use this and the example code in [the fourth tutorial](../tutorials/4_convergence.ipynb) to create a plot showing how the iteration count changes as $h$ is reduced. (You may want to run your code for a smaller number of values than the example so it runs faster.)\n",
    "\n",
    "Your plot will probably be more informative if you don't log scale the iteration-axis. If you want to, you can use `plt.ylim([0, plt.ylim()[1]])` to make your iteration-axis start at 0."
   ]
  },
  {
   "cell_type": "code",
   "execution_count": 1,
   "metadata": {},
   "outputs": [],
   "source": [
    "%matplotlib inline\n",
    "\n",
    "import bempp.api\n",
    "\n"
   ]
  },
  {
   "cell_type": "markdown",
   "metadata": {},
   "source": [
    "## Preconditioning\n",
    "\n",
    "When an iteration count is very high, it can often be lowered by applying a preconditioner. Instead of solving the matrix system\n",
    "\n",
    "$$\n",
    "\\mathrm{A}\\mathbf{x}=\\mathbf{b},\n",
    "$$\n",
    "\n",
    "you can pick a matrix $\\mathrm{P}$ and solve\n",
    "\n",
    "$$\n",
    "\\mathrm{P}\\mathrm{A}\\mathbf{x}=\\mathrm{P}\\mathbf{b}.\n",
    "$$\n",
    "\n",
    "If $\\mathrm{P}$ is chosen well, then the matrix $\\mathrm{P}\\mathrm{A}$ will need many fewer iterations to solve.\n",
    "\n",
    "A common preconditioning strategy in BEM is mass matrix preconditioning. In Bempp, this can be used by passing `use_strong_form=True` into GMRES, for example:\n",
    "```\n",
    "p_total, info, iterations = gmres(double_layer + 0.5 * identity, single_layer * lambda_fun, tol=1E-5,\n",
    "                                  return_iteration_count=True, use_strong_form=True)\n",
    "```\n",
    "\n",
    "Your task is to use this and the example code in [the fourth tutorial](../tutorials/4_convergence.ipynb) to create a plot showing how the iteration count of the mass matrix preconditioned system changes as $h$ is reduced. You could plot the information on the same plot as the iteration counts you measured above to compare the two approaches."
   ]
  },
  {
   "cell_type": "code",
   "execution_count": 2,
   "metadata": {},
   "outputs": [],
   "source": [
    "%matplotlib inline\n",
    "\n",
    "import bempp.api\n",
    "\n"
   ]
  }
 ],
 "metadata": {
  "kernelspec": {
   "display_name": "Python 3",
   "language": "python",
   "name": "python3"
  },
  "language_info": {
   "codemirror_mode": {
    "name": "ipython",
    "version": 3
   },
   "file_extension": ".py",
   "mimetype": "text/x-python",
   "name": "python",
   "nbconvert_exporter": "python",
   "pygments_lexer": "ipython3",
   "version": "3.8.10"
  }
 },
 "nbformat": 4,
 "nbformat_minor": 4
}
