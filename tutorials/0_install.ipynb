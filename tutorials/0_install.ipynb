{
 "cells": [
  {
   "cell_type": "markdown",
   "metadata": {},
   "source": [
    "# Installing Bempp\n",
    "\n",
    "Before running these notebooks, you will need to install Bempp. These notebooks are designed to be run with Bempp version 0.2.3. These instructions will tell you how to install this version."
   ]
  },
  {
   "cell_type": "markdown",
   "metadata": {},
   "source": [
    "## Using pip\n",
    "\n",
    "Before installing Bempp, you will need to install a few prerequisites:\n",
    "\n",
    "```bash\n",
    "pip install plotly numpy scipy numba meshio>=4.0.16\n",
    "```\n",
    "\n",
    "You can then install Bempp 0.2.3 with:\n",
    "\n",
    "```bash\n",
    "pip install git+https://github.com/bempp/bempp-cl.git\n",
    "```\n",
    "\n",
    "(Note that Bempp can be installed from pip by running `pip install bempp-cl`, **but this will currently install version 0.1.0 which is missing a few features and bugfixes that we need.**)"
   ]
  },
  {
   "cell_type": "markdown",
   "metadata": {},
   "source": [
    "## Troubleshooting\n",
    "\n",
    "### AttributeError: module 'numba' has no attribute 'jitclass'\n",
    "\n",
    "This error is caused by an incompatible version of numba being used with some versions of Bempp. It can be fixed by running:\n",
    "\n",
    "```bash\n",
    "pip install numba==0.48.0\n",
    "```"
   ]
  },
  {
   "cell_type": "code",
   "execution_count": null,
   "metadata": {},
   "outputs": [],
   "source": []
  }
 ],
 "metadata": {
  "kernelspec": {
   "display_name": "Python 3",
   "language": "python",
   "name": "python3"
  },
  "language_info": {
   "codemirror_mode": {
    "name": "ipython",
    "version": 3
   },
   "file_extension": ".py",
   "mimetype": "text/x-python",
   "name": "python",
   "nbconvert_exporter": "python",
   "pygments_lexer": "ipython3",
   "version": "3.8.10"
  }
 },
 "nbformat": 4,
 "nbformat_minor": 4
}
