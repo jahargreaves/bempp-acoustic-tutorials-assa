{
 "cells": [
  {
   "cell_type": "markdown",
   "metadata": {},
   "source": [
    "# Tutorial 4: Convergence rates"
   ]
  },
  {
   "cell_type": "markdown",
   "metadata": {},
   "source": [
    "## The problem\n",
    "\n",
    "It is reasonably easy to check that $p=\\mathrm{e}^{\\mathrm{i}kx_0}$ is the solution of\n",
    "\n",
    "$$\n",
    "\\Delta p + k^2p=0 \\quad \\text{in }\\Omega,\n",
    "$$\n",
    "$$\n",
    "\\frac{\\partial p}{\\partial \\mathbf{n}} = \\mathrm{i}kn_0\\mathrm{e}^{\\mathrm{i}kx_0}\\quad \\text{on }\\Gamma,\n",
    "$$\n",
    "where $\\mathbf{x}=(x_0,x_1,x_2)$ is a point in $\\Omega$ and $\\textbf{n}=(n_0,n_1,n_2)$ is the normal to the surface $\\Gamma$.\n",
    "\n",
    "In this tutorial, we solve this problem using BEM and compare the approximate solution to this knows actual solution."
   ]
  },
  {
   "cell_type": "markdown",
   "metadata": {},
   "source": [
    "## BEM formulation\n",
    "\n",
    "### Representation formula\n",
    "\n",
    "$$\n",
    "p = \\mathcal{D}p-\\mathcal{S}\\frac{\\partial p}{\\partial \\mathbf{n}}\n",
    "$$\n",
    "\n",
    "where $\\mathcal{S}$ is the single layer potential operator and $\\mathcal{D}$ is the double layer potential operator.\n",
    "\n",
    "### Boundary integral equation\n",
    "\n",
    "$$\n",
    "(\\mathsf{D}+\\tfrac{1}{2}\\mathsf{I})p=\\mathsf{S}\\frac{\\partial p}{\\partial \\mathbf{n}},\n",
    "$$\n",
    "\n",
    "where $\\mathsf{S}$ is the single layer boundary operator; $\\mathsf{D}$ is the double layer boundary operator; and $\\mathsf{I}$ is the identity operator."
   ]
  },
  {
   "cell_type": "markdown",
   "metadata": {},
   "source": [
    "### Solving with Bempp"
   ]
  },
  {
   "cell_type": "markdown",
   "metadata": {},
   "source": [
    "We can solve this problem using the code below. In this example, we use a cuboid 1.5 units long, 1 unit wide, and 1 unit high: we import this mesh from the file `cuboid.msh`."
   ]
  },
  {
   "cell_type": "code",
   "execution_count": 1,
   "metadata": {},
   "outputs": [],
   "source": [
    "import bempp.api\n",
    "from bempp.api.operators.boundary import helmholtz, sparse\n",
    "from bempp.api.operators.potential import helmholtz as helmholtz_potential\n",
    "from bempp.api.linalg import gmres\n",
    "import numpy as np\n",
    "from matplotlib import pyplot as plt\n",
    "\n",
    "k = 4.\n",
    "\n",
    "grid = bempp.api.import_grid(\"cuboid.msh\")\n",
    "\n",
    "space = bempp.api.function_space(grid, \"DP\", 0)\n",
    "\n",
    "identity = sparse.identity(space, space, space)\n",
    "single_layer = helmholtz.single_layer(space, space, space, k)\n",
    "double_layer = helmholtz.double_layer(space, space, space, k)\n",
    "\n",
    "@bempp.api.complex_callable\n",
    "def lambda_callable(x, n, domain_index, result):\n",
    "    result[0] = 1j * k * np.exp(1j * k * x[0]) * n[0]\n",
    "\n",
    "lambda_fun = bempp.api.GridFunction(space, fun=lambda_callable)\n",
    "\n",
    "p_total, info = gmres(double_layer + 0.5 * identity, single_layer * lambda_fun, tol=1E-5)"
   ]
  },
  {
   "cell_type": "markdown",
   "metadata": {},
   "source": [
    "We can now compare our solution to the solution we are expecting. To do this, we create a `GridFunction` representing the actual solution, and take the $L^2$ norm of the difference between our approximation and the actual solution.\n",
    "\n",
    "0.4 isn't too big, so it looks like we've got a pretty good approximation."
   ]
  },
  {
   "cell_type": "code",
   "execution_count": 2,
   "metadata": {},
   "outputs": [
    {
     "name": "stdout",
     "output_type": "stream",
     "text": [
      "0.41326500769117885\n"
     ]
    }
   ],
   "source": [
    "@bempp.api.complex_callable\n",
    "def actual_solution_f(x, n, domain_index, result):\n",
    "    result[0] = np.exp(1j * k * x[0])\n",
    "\n",
    "actual_solution = bempp.api.GridFunction(space, fun=actual_solution_f)\n",
    "\n",
    "print((p_total - actual_solution).l2_norm())"
   ]
  },
  {
   "cell_type": "markdown",
   "metadata": {},
   "source": [
    "To get a better understanding of the accuracy of our BEM approximation, we can look at how the $L^2$ norm changes as we change the number of elements in our mesh.\n",
    "\n",
    "The following code uses a for loop to calculate the error for a range of values of $h$. The $h$ parameter controls the size of each triangle."
   ]
  },
  {
   "cell_type": "code",
   "execution_count": 3,
   "metadata": {},
   "outputs": [
    {
     "name": "stdout",
     "output_type": "stream",
     "text": [
      "0.5 0.7974278842777981\n",
      "0.3535533905932738 0.4639766101213504\n",
      "0.25 0.3615649671805228\n",
      "0.1767766952966369 0.19117350563272814\n",
      "0.125 0.11249838362456548\n",
      "0.08838834764831845 0.05736033728592835\n",
      "0.0625 0.03268628009237414\n",
      "0.04419417382415922 0.01696026668525607\n"
     ]
    }
   ],
   "source": [
    "import bempp.api\n",
    "from bempp.api.operators.boundary import helmholtz, sparse\n",
    "from bempp.api.linalg import gmres\n",
    "import numpy as np\n",
    "from matplotlib import pyplot as plt\n",
    "\n",
    "k = 4.\n",
    "\n",
    "@bempp.api.complex_callable\n",
    "def lambda_callable(x, n, domain_index, result):\n",
    "    result[0] = 1j * k * np.exp(1j * k * x[0]) * n[0]\n",
    "\n",
    "@bempp.api.complex_callable\n",
    "def actual_solution_f(x, n, domain_index, result):\n",
    "    result[0] = np.exp(1j * k * x[0])\n",
    "\n",
    "h_values = []\n",
    "errors = []\n",
    "ndofs = []\n",
    "for i in range(2, 10):\n",
    "    h = 2 ** -(i/2)\n",
    "\n",
    "    grid = bempp.api.shapes.cuboid(length=(1.5, 1, 1), h=h)\n",
    "    space = bempp.api.function_space(grid, \"DP\", 0)\n",
    "\n",
    "    identity = sparse.identity(space, space, space)\n",
    "    single_layer = helmholtz.single_layer(space, space, space, k)\n",
    "    double_layer = helmholtz.double_layer(space, space, space, k)\n",
    "\n",
    "    lambda_fun = bempp.api.GridFunction(space, fun=lambda_callable)\n",
    "\n",
    "    p_total, info = gmres(double_layer + 0.5 * identity, single_layer * lambda_fun, tol=1E-5)\n",
    "\n",
    "    actual_solution = bempp.api.GridFunction(space, fun=actual_solution_f)\n",
    "    \n",
    "    h_values.append(h)\n",
    "    ndofs.append(space.global_dof_count)\n",
    "    errors.append((p_total - actual_solution).l2_norm())\n",
    "    print(h, errors[-1])"
   ]
  },
  {
   "cell_type": "markdown",
   "metadata": {},
   "source": [
    "We can then make a convergence plot showing how the error decreases as we decrease $h$.\n",
    "\n",
    "We have used some features of matplotlib to make this plot as informative as possible:\n",
    "\n",
    "- We use `plt.xscale` and `plt.yscale` to plot $\\log(h)$ against $\\log(\\text{error})$. The error will be approximately polynomial: plotting it on log-log axes will turn it into a straight line where the gradient is the polynomial order.\n",
    "- We use `plt.axis` to make the axes equal aspect. The gradient is an important feature of the plot, and it is much easier to just the gradient on a equal aspect plot.\n",
    "- We use `plt.xlim` to reverse the $h$-axis. This one is due to my own personal preference (and you may prefer otherwise), but I think it makes more sense for the number of elements to increase to the right (and so for $h$ to decrease to the right)."
   ]
  },
  {
   "cell_type": "code",
   "execution_count": 4,
   "metadata": {},
   "outputs": [
    {
     "data": {
      "image/png": "[encoded data removed]",
      "text/plain": [
       "<Figure size 432x288 with 1 Axes>"
      ]
     },
     "metadata": {
      "needs_background": "light"
     },
     "output_type": "display_data"
    }
   ],
   "source": [
    "%matplotlib inline\n",
    "\n",
    "plt.plot(h_values, errors, \"bo-\")\n",
    "plt.xlabel(\"$h$\")\n",
    "plt.ylabel(\"$L^2$ error\")\n",
    "plt.xscale(\"log\")\n",
    "plt.yscale(\"log\")\n",
    "plt.axis(\"equal\")\n",
    "plt.xlim(plt.xlim()[::-1])\n",
    "\n",
    "plt.title(\"Convergence of an interior problem\")\n",
    "\n",
    "plt.show()"
   ]
  },
  {
   "cell_type": "markdown",
   "metadata": {},
   "source": [
    "Alternatively, we could plot the error against the number of degrees of freedom (DOFs). In the code above, we used `space.global_dof_count` to get these values and stored them in the list `ndofs`. This line has a different gradient to the plot above as the number of DOFs scales like $h^{-2}$."
   ]
  },
  {
   "cell_type": "code",
   "execution_count": 5,
   "metadata": {},
   "outputs": [
    {
     "data": {
      "image/png": "[encoded data removed]",
      "text/plain": [
       "<Figure size 432x288 with 1 Axes>"
      ]
     },
     "metadata": {
      "needs_background": "light"
     },
     "output_type": "display_data"
    }
   ],
   "source": [
    "%matplotlib inline\n",
    "\n",
    "plt.plot(ndofs, errors, \"bo-\")\n",
    "plt.xlabel(\"Number of degrees of freedom\")\n",
    "plt.ylabel(\"$L^2$ error\")\n",
    "plt.xscale(\"log\")\n",
    "plt.yscale(\"log\")\n",
    "plt.axis(\"equal\")\n",
    "\n",
    "plt.title(\"Convergence of an interior problem\")\n",
    "\n",
    "plt.show()"
   ]
  },
  {
   "cell_type": "markdown",
   "metadata": {},
   "source": [
    "In this final plot, we add a trend line to indicate order 1.5 convergence (ie $\\text{error} = ch^{1.5}$).\n",
    "\n",
    "We do this by plotting $ch^{1.5}$ for appropriate values of $h$ and a value of $c$ chosen to put the trend near our error line. As the trend line will be a straight line on a log-log plot, we only need to tell matplotlib the first and last coordinates on the line."
   ]
  },
  {
   "cell_type": "code",
   "execution_count": 6,
   "metadata": {},
   "outputs": [
    {
     "data": {
      "image/png": "[encoded data removed]",
      "text/plain": [
       "<Figure size 432x288 with 1 Axes>"
      ]
     },
     "metadata": {
      "needs_background": "light"
     },
     "output_type": "display_data"
    }
   ],
   "source": [
    "%matplotlib inline\n",
    "\n",
    "plt.plot(h_values, errors, \"bo-\")\n",
    "plt.plot([0.2, 0.02], [0.5, 0.5 * (0.02 / 0.2) ** 1.5], \"k--\")\n",
    "plt.xlabel(\"$h$\")\n",
    "plt.ylabel(\"$L^2$ error\")\n",
    "plt.xscale(\"log\")\n",
    "plt.yscale(\"log\")\n",
    "plt.axis(\"equal\")\n",
    "plt.xlim(plt.xlim()[::-1])\n",
    "\n",
    "plt.title(\"Convergence of an interior problem\")\n",
    "\n",
    "plt.show()"
   ]
  },
  {
   "cell_type": "markdown",
   "metadata": {},
   "source": [
    "## What next?\n",
    "\n",
    "After reading this tutorial, you should attempt [exercise 3](../exercises/3_iterations.ipynb)."
   ]
  }
 ],
 "metadata": {
  "kernelspec": {
   "display_name": "Python 3",
   "language": "python",
   "name": "python3"
  },
  "language_info": {
   "codemirror_mode": {
    "name": "ipython",
    "version": 3
   },
   "file_extension": ".py",
   "mimetype": "text/x-python",
   "name": "python",
   "nbconvert_exporter": "python",
   "pygments_lexer": "ipython3",
   "version": "3.8.10"
  }
 },
 "nbformat": 4,
 "nbformat_minor": 4
}
