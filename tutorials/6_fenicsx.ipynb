{
 "cells": [
  {
   "cell_type": "markdown",
   "metadata": {},
   "source": [
    "# Coupling the finite and boundary element methods\n",
    "\n",
    "In this tutorial, we will look at how Bempp can be used alongside the finite element library FEniCSx to solve a transmission problem. To run this tutorial, you will need to have FEniCSx installed. FEniCSx is included in the [Bempp Docker image](https://bempp.com/installation.html), so you may like to use that rather than installing FEniCSx yourself.\n",
    "\n",
    "For this example, we let $\\Omega$ be a unit cube and we solve a transmission problem with different matrial properties inside and outside the cube.\n",
    "\n",
    "As an incident wave, we use\n",
    "\n",
    "$$\n",
    "p_\\text{inc}(\\mathbf{x})=\\mathrm{e}^{\\mathrm{i} k \\mathbf{x}\\cdot\\mathbf{d}},\n",
    "$$\n",
    "\n",
    "where $\\mathbf{x}=(x_0,x_1,x_2)$ and $\\mathbf{d} = \\frac{1}{\\sqrt{3}}(1,1,1)$ is the direction of the incident wave.\n",
    "\n",
    "The PDE we want to solve is\n",
    "\n",
    "$$\n",
    "\\Delta p + n(\\mathbf{x})^2 k^2 p = 0, \\quad \\text{ in } \\Omega\\\\\n",
    "\\Delta p + k^2 p = 0, \\quad \\text{ in } \\mathbb{R}^3 \\backslash \\Omega\n",
    "$$\n",
    "\n",
    "In this example, we use $n(\\mathbf{x}) = 0.5$. For simplicity we have chosen $n$ to be constant.\n",
    "\n",
    "As $n$ is constant, we could actually use BEM inside the domain too; but if $n$ were not constant, BEM could not be used, and the benefit of coupling with FEM is more apparent.\n",
    "\n",
    "## Formulation\n",
    "\n",
    "### FEM part\n",
    "\n",
    "In $\\Omega$, the FEM part is formulated as\n",
    "\n",
    "$$\n",
    "\\int_\\Omega \\nabla p\\cdot\\nabla v -k^2\\int_\\Omega n^2pv - \\int_{d\\Omega} v\\frac{\\partial p}{\\partial \\nu} = 0,\n",
    "$$\n",
    "\n",
    "or\n",
    "\n",
    "$$\n",
    "\\langle\\nabla p,\\nabla v\\rangle_\\Omega - k^2\\langle n^2p,v\\rangle_\\Omega - \\langle \\lambda,v\\rangle_\\Gamma=0,\n",
    "$$\n",
    "\n",
    "where $\\lambda=\\frac{\\partial p}{\\partial \\nu}$.\n",
    "\n",
    "Later, we will write this as an operator equation, as this more closely matches the BEM approach:\n",
    "\n",
    "$$\n",
    "\\mathsf{A}u-k^2 \\mathsf{M}u-\\mathsf{M}_\\Gamma \\lambda = 0.\n",
    "$$\n",
    "\n",
    "### BEM part\n",
    "\n",
    "Outside the cube, we split $p$ into $p_\\text{s}+p_\\text{inc}$.\n",
    "\n",
    "#### Representation formula\n",
    "\n",
    "$$\n",
    "p_\\text{s} = \\mathcal{D}p-\\mathcal{S}\\lambda,\n",
    "$$\n",
    "\n",
    "where $\\mathcal{S}$ is the single layer potential operator; $\\mathcal{D}$ is the double layer potential operator; and $\\lambda$ is the normal derivative of $p$ on the surface of the cube.\n",
    "\n",
    "#### Boundary integral equation\n",
    "\n",
    "$$\n",
    "\\left(\\tfrac{1}{2}\\mathsf{Id}-\\mathsf{D}\\right)p+\\mathsf{S}\\lambda = p_\\text{inc},\n",
    "$$\n",
    "\n",
    "where $\\mathsf{S}$ is the single layer boundary operator; $\\mathsf{D}$ is the double layer boundary operator; and $\\mathsf{Id}$ is the identity operator.\n",
    "\n",
    "### Overall formulation\n",
    "\n",
    "Combining the FEM and BEM parts of the formulation, we have two simultaneous operator equation in terms of $p$ and $\\lambda$. We can write this as a blocked system:\n",
    "\n",
    "$$\n",
    "\\begin{bmatrix}\n",
    "    \\mathsf{A}-k^2 \\mathsf{M} & -\\mathsf{M}_\\Gamma\\\\\n",
    "    \\tfrac{1}{2}\\mathsf{Id}-\\mathsf{D} & \\mathsf{S}\n",
    "\\end{bmatrix}\n",
    "\\begin{bmatrix}\n",
    "    p\\\\\n",
    "    \\lambda\n",
    "\\end{bmatrix}=\\begin{bmatrix}\n",
    "    0\\\\\n",
    "    p_\\text{inc}\n",
    "\\end{bmatrix}.\n",
    "$$"
   ]
  },
  {
   "cell_type": "markdown",
   "metadata": {},
   "source": [
    "## Solving with Bempp"
   ]
  },
  {
   "cell_type": "markdown",
   "metadata": {},
   "source": [
    "We begin by importing DOLFINx (the FEniCSx python library), UFL (FEniCS's unified form language), MPI, Bempp and Numpy. We also disable Bempp's logging messages (as otherwise a lot will appear during the solve step)."
   ]
  },
  {
   "cell_type": "code",
   "execution_count": 1,
   "metadata": {},
   "outputs": [],
   "source": [
    "import dolfinx\n",
    "import dolfinx.geometry\n",
    "import ufl\n",
    "from mpi4py import MPI\n",
    "import bempp.api\n",
    "import numpy as np"
   ]
  },
  {
   "cell_type": "markdown",
   "metadata": {},
   "source": [
    "Next, we set the wavenumber ``k`` and the direction ``d`` of the incoming wave."
   ]
  },
  {
   "cell_type": "code",
   "execution_count": 2,
   "metadata": {},
   "outputs": [],
   "source": [
    "k = 6.\n",
    "d = np.array([1., 1., 1])\n",
    "d /= np.linalg.norm(d)"
   ]
  },
  {
   "cell_type": "markdown",
   "metadata": {},
   "source": [
    "We create a mesh of a cube using DOLFINx. This will be mesh of tetrahedral cells to be used for the interior FEM part of the problem."
   ]
  },
  {
   "cell_type": "code",
   "execution_count": 3,
   "metadata": {},
   "outputs": [],
   "source": [
    "mesh = dolfinx.UnitCubeMesh(MPI.COMM_WORLD, 10, 10, 10)"
   ]
  },
  {
   "cell_type": "markdown",
   "metadata": {},
   "source": [
    "Next, we make the DOLFINx and Bempp function spaces.\n",
    "\n",
    "The function ``fenics_to_bempp_trace_data`` will extract the trace space from the DOLFINx space and create the matrix ``trace_matrix``, which maps between the dofs (degrees of freedom) in DOLFINx and Bempp."
   ]
  },
  {
   "cell_type": "code",
   "execution_count": 4,
   "metadata": {},
   "outputs": [
    {
     "name": "stdout",
     "output_type": "stream",
     "text": [
      "FEM dofs: 1331\n",
      "BEM dofs: 1200\n"
     ]
    }
   ],
   "source": [
    "from bempp.api.external import fenicsx\n",
    "\n",
    "fenics_space = dolfinx.FunctionSpace(mesh, (\"CG\", 1))\n",
    "trace_space, trace_matrix = \\\n",
    "    fenicsx.fenics_to_bempp_trace_data(fenics_space)\n",
    "bempp_space = bempp.api.function_space(trace_space.grid, \"DP\", 0)\n",
    "\n",
    "fem_size = fenics_space.dofmap.index_map.size_global\n",
    "bem_size = bempp_space.global_dof_count\n",
    "\n",
    "print(\"FEM dofs: {0}\".format(fem_size))\n",
    "print(\"BEM dofs: {0}\".format(bem_size))"
   ]
  },
  {
   "cell_type": "markdown",
   "metadata": {},
   "source": [
    "We create the boundary operators that we need."
   ]
  },
  {
   "cell_type": "code",
   "execution_count": 5,
   "metadata": {},
   "outputs": [],
   "source": [
    "identity = bempp.api.operators.boundary.sparse.identity(\n",
    "    trace_space, bempp_space, bempp_space)\n",
    "mass = bempp.api.operators.boundary.sparse.identity(\n",
    "    bempp_space, bempp_space, trace_space)\n",
    "double_layer = bempp.api.operators.boundary.helmholtz.double_layer(\n",
    "    trace_space, bempp_space, bempp_space, k)\n",
    "single_layer = bempp.api.operators.boundary.helmholtz.single_layer(\n",
    "    bempp_space, bempp_space, bempp_space, k)"
   ]
  },
  {
   "cell_type": "markdown",
   "metadata": {},
   "source": [
    "We create the UFL trial function, test function, and define $n$."
   ]
  },
  {
   "cell_type": "code",
   "execution_count": 6,
   "metadata": {},
   "outputs": [],
   "source": [
    "u = ufl.TrialFunction(fenics_space)\n",
    "v = ufl.TestFunction(fenics_space)\n",
    "n = 0.5"
   ]
  },
  {
   "cell_type": "markdown",
   "metadata": {},
   "source": [
    "We make the vectors on the right hand side of the formulation."
   ]
  },
  {
   "cell_type": "code",
   "execution_count": 7,
   "metadata": {},
   "outputs": [],
   "source": [
    "@bempp.api.complex_callable\n",
    "def u_inc(x, n, domain_index, result):\n",
    "    result[0] = np.exp(1j * k * np.dot(x, d))\n",
    "u_inc = bempp.api.GridFunction(bempp_space, fun=u_inc)\n",
    "\n",
    "# The rhs from the FEM\n",
    "rhs_fem = np.zeros(fem_size)\n",
    "# The rhs from the BEM\n",
    "rhs_bem = u_inc.projections(bempp_space)\n",
    "# The combined rhs\n",
    "rhs = np.concatenate([rhs_fem, rhs_bem])"
   ]
  },
  {
   "cell_type": "markdown",
   "metadata": {},
   "source": [
    "We are now ready to create a ``BlockedLinearOperator`` containing all four parts of the discretisation of\n",
    "$$\n",
    "\\begin{bmatrix}\n",
    "    \\mathsf{A}-k^2 \\mathsf{M} & -\\mathsf{M}_\\Gamma\\\\\n",
    "    \\tfrac{1}{2}\\mathsf{Id}-\\mathsf{D} & \\mathsf{S}\n",
    "\\end{bmatrix}.\n",
    "$$"
   ]
  },
  {
   "cell_type": "code",
   "execution_count": 8,
   "metadata": {},
   "outputs": [],
   "source": [
    "from bempp.api.assembly.blocked_operator import BlockedDiscreteOperator\n",
    "from scipy.sparse.linalg.interface import LinearOperator\n",
    "blocks = [[None,None],[None,None]]\n",
    "\n",
    "trace_op = LinearOperator(trace_matrix.shape, lambda x:trace_matrix @ x)\n",
    "\n",
    "A = fenicsx.FenicsOperator((ufl.inner(ufl.grad(u), ufl.grad(v)) - k**2 * n**2 * ufl.inner(u, v)) * ufl.dx)\n",
    "\n",
    "blocks[0][0] = A.weak_form()\n",
    "blocks[0][1] = -trace_matrix.T * mass.weak_form().to_sparse()\n",
    "blocks[1][0] = (.5 * identity - double_layer).weak_form() * trace_op\n",
    "blocks[1][1] = single_layer.weak_form()\n",
    "\n",
    "blocked = BlockedDiscreteOperator(np.array(blocks))"
   ]
  },
  {
   "cell_type": "markdown",
   "metadata": {},
   "source": [
    "Next, we solve the system, then split the solution into the parts assosiated with p and $\\lambda$. For an efficient solve, preconditioning is required."
   ]
  },
  {
   "cell_type": "code",
   "execution_count": 9,
   "metadata": {},
   "outputs": [
    {
     "name": "stdout",
     "output_type": "stream",
     "text": [
      "Number of iterations: 312\n"
     ]
    }
   ],
   "source": [
    "from bempp.api.assembly.discrete_boundary_operator import InverseSparseDiscreteBoundaryOperator\n",
    "from scipy.sparse.linalg import LinearOperator\n",
    "\n",
    "# Compute the sparse inverse of the Helmholtz operator\n",
    "# Although it is not a boundary operator we can use\n",
    "# the SparseInverseDiscreteBoundaryOperator function from\n",
    "# BEM++ to turn its LU decomposition into a linear operator.\n",
    "P1 = InverseSparseDiscreteBoundaryOperator(\n",
    "    blocked[0,0].to_sparse().tocsc())\n",
    "\n",
    "# For the Laplace slp we use a simple mass matrix preconditioner. \n",
    "# This is sufficient for smaller low-frequency problems.\n",
    "P2 = InverseSparseDiscreteBoundaryOperator(\n",
    "    bempp.api.operators.boundary.sparse.identity(\n",
    "        bempp_space, bempp_space, bempp_space).weak_form())\n",
    "\n",
    "# Create a block diagonal preconditioner object using the Scipy LinearOperator class\n",
    "def apply_prec(x):\n",
    "    \"\"\"Apply the block diagonal preconditioner\"\"\"\n",
    "    m1 = P1.shape[0]\n",
    "    m2 = P2.shape[0]\n",
    "    n1 = P1.shape[1]\n",
    "    n2 = P2.shape[1]\n",
    "    \n",
    "    res1 = P1.dot(x[:n1])\n",
    "    res2 = P2.dot(x[n1:])\n",
    "    return np.concatenate([res1, res2])\n",
    "\n",
    "p_shape = (P1.shape[0] + P2.shape[0], P1.shape[1] + P2.shape[1])\n",
    "P = LinearOperator(p_shape, apply_prec, dtype=np.dtype('complex128'))\n",
    "\n",
    "# Create a callback function to count the number of iterations\n",
    "it_count = 0\n",
    "def count_iterations(x):\n",
    "    global it_count\n",
    "    it_count += 1\n",
    "\n",
    "from scipy.sparse.linalg import gmres\n",
    "soln, info = gmres(blocked, rhs, M=P, callback=count_iterations)\n",
    "\n",
    "soln_fem = soln[:fem_size]\n",
    "soln_bem = soln[fem_size:]\n",
    "\n",
    "print(\"Number of iterations: {0}\".format(it_count))"
   ]
  },
  {
   "cell_type": "markdown",
   "metadata": {},
   "source": [
    "Next, we make DOLFINx and Bempp functions from the solution."
   ]
  },
  {
   "cell_type": "code",
   "execution_count": 10,
   "metadata": {},
   "outputs": [],
   "source": [
    "# Store the real part of the FEM solution\n",
    "u = dolfinx.Function(fenics_space)\n",
    "u.vector[:] = np.ascontiguousarray(np.real(soln_fem))\n",
    "\n",
    "# Solution function with dirichlet data on the boundary\n",
    "dirichlet_data = trace_matrix * soln_fem\n",
    "dirichlet_fun = bempp.api.GridFunction(trace_space, coefficients=dirichlet_data)\n",
    "\n",
    "# Solution function with Neumann data on the boundary\n",
    "neumann_fun = bempp.api.GridFunction(bempp_space, coefficients=soln_bem)"
   ]
  },
  {
   "cell_type": "markdown",
   "metadata": {},
   "source": [
    "We now evaluate the solution on the slice $z=0.5$ and plot it. For the exterior domain, we use the respresentation formula\n",
    "\n",
    "$$\n",
    "p_\\text{s} = \\mathcal{D}p-\\mathcal{S}\\frac{\\partial u}{\\partial \\nu}\n",
    "$$\n",
    "\n",
    "to evaluate the solution."
   ]
  },
  {
   "cell_type": "code",
   "execution_count": 11,
   "metadata": {},
   "outputs": [
    {
     "data": {
      "image/png": "[encoded data removed]",
      "text/plain": [
       "<Figure size 720x576 with 2 Axes>"
      ]
     },
     "metadata": {
      "needs_background": "light"
     },
     "output_type": "display_data"
    }
   ],
   "source": [
    "%matplotlib inline\n",
    "\n",
    "Nx=200\n",
    "Ny=200\n",
    "xmin, xmax, ymin, ymax=[-1,3,-1,3]\n",
    "plot_grid = np.mgrid[xmin:xmax:Nx*1j,ymin:ymax:Ny*1j]\n",
    "points = np.vstack((plot_grid[0].ravel(),\n",
    "                    plot_grid[1].ravel(),\n",
    "                    np.array([0.5]*plot_grid[0].size)))\n",
    "plot_me = np.zeros(points.shape[1], dtype=np.complex128)\n",
    "\n",
    "x,y,z = points\n",
    "bem_x = np.logical_not((x>0) * (x<1) * (y>0) * (y<1) * (z>0) * (z<1))\n",
    "\n",
    "slp_pot= bempp.api.operators.potential.helmholtz.single_layer(\n",
    "    bempp_space, points[:, bem_x], k)\n",
    "dlp_pot= bempp.api.operators.potential.helmholtz.double_layer(\n",
    "    trace_space, points[:, bem_x], k)\n",
    "\n",
    "plot_me[bem_x] += np.exp(1j * k * (points[0, bem_x] * d[0] \\\n",
    "                                 + points[1, bem_x] * d[1] \\\n",
    "                                 + points[2, bem_x] * d[2]))\n",
    "plot_me[bem_x] += dlp_pot.evaluate(dirichlet_fun).flat\n",
    "plot_me[bem_x] -= slp_pot.evaluate(neumann_fun).flat\n",
    "\n",
    "fem_points = points[:, np.logical_not(bem_x)].transpose()\n",
    "tree = dolfinx.geometry.BoundingBoxTree(mesh, 3)\n",
    "entities = []\n",
    "for point in fem_points:\n",
    "    entities.append(dolfinx.geometry.compute_closest_entity(tree, point, mesh)[0])\n",
    "fem_val = u.eval(fem_points, entities)\n",
    "\n",
    "plot_me[np.logical_not(bem_x)] += fem_val.T[0]\n",
    "\n",
    "plot_me = plot_me.reshape((Nx, Ny))\n",
    "\n",
    "plot_me = plot_me.transpose()[::-1]\n",
    "\n",
    "vmax = np.max(np.abs(np.real(plot_me.flat)))\n",
    "\n",
    "# Plot the image\n",
    "from matplotlib import pyplot as plt\n",
    "fig=plt.figure(figsize=(10, 8))\n",
    "plt.imshow(np.real(plot_me), extent=[xmin, xmax, ymin, ymax],\n",
    "           cmap=plt.get_cmap(\"bwr\"), vmin=-vmax, vmax=vmax)\n",
    "plt.xlabel('x')\n",
    "plt.ylabel('y')\n",
    "plt.colorbar()\n",
    "plt.title(\"FEM-BEM Coupling for Helmholtz\")\n",
    "plt.show()"
   ]
  }
 ],
 "metadata": {
  "kernelspec": {
   "display_name": "Python 3",
   "language": "python",
   "name": "python3"
  },
  "language_info": {
   "codemirror_mode": {
    "name": "ipython",
    "version": 3
   },
   "file_extension": ".py",
   "mimetype": "text/x-python",
   "name": "python",
   "nbconvert_exporter": "python",
   "pygments_lexer": "ipython3",
   "version": "3.8.10"
  }
 },
 "nbformat": 4,
 "nbformat_minor": 4
}
