{
 "cells": [
  {
   "cell_type": "markdown",
   "metadata": {},
   "source": [
    "# Further information\n",
    "\n",
    "The aim of this notebook is to direct you to more detailed Bempp documentation and information that should be useful if you want to use Bempp in your research."
   ]
  },
  {
   "cell_type": "markdown",
   "metadata": {},
   "source": [
    "## Code documentation & help\n",
    "\n",
    "The [Bempp website](https://bempp.com/) contains lots of documentation, including:\n",
    "\n",
    "- Lots more [code examples](https://bempp.com/documentation/tutorials.html)\n",
    "- [Documentation](https://bempp.com/documentation/index.html). This includes:\n",
    "  - [The Bempp Handbook](https://bempp.com/handbook/intro.html): a detailed document describing the full functionality of the library\n",
    "  - [Automatically generated Python documentation](https://bempp-cl.readthedocs.io/en/latest/)\n",
    "- [A list of publications](https://bempp.com/publications.html), many of which include code examples.\n",
    "\n",
    "If you want to ask a question about using Bempp, you can post on the [Bempp Discourse forum](https://bempp.discourse.group/). Multiple developers and users of the library are active in this forum and will be able to respond to you."
   ]
  },
  {
   "cell_type": "markdown",
   "metadata": {},
   "source": [
    "## Differences in notation\n",
    "\n",
    "There are a few different conventions used to denote the operators used in BEM. In these notebooks, we have used a beginner friendly convention. This differs from the notation used in the Bempp documentation. The differences are show in the following table.\n",
    "\n",
    "Operator | Notation in these notebooks | Notation used on Bempp website\n",
    "-------- | --------------------------- | ------------------------------\n",
    "Single layer potential operator | $\\mathcal{S}$ | $\\mathcal{{V}}$\n",
    "Double layer potential operator | $\\mathcal{D}$ | $\\mathcal{{K}}$\n",
    "Identity boundary operator | $\\mathsf{I}$ | $\\mathsf{{Id}}$\n",
    "Single layer boundary operator | $\\mathsf{S}$ | $\\mathsf{{V}}$\n",
    "Double layer boundary operator | $\\mathsf{D}$ | $\\mathsf{{K}}$\n",
    "Adjoint double layer boundary operator | $\\mathsf{A}$ | $\\mathsf{{K}}'$\n",
    "Hypersingular boundary operator | $\\mathsf{H}$ | $\\mathsf{{W}}$"
   ]
  },
  {
   "cell_type": "markdown",
   "metadata": {},
   "source": [
    "## Mathematics & formulations\n",
    "\n",
    "The definitions of potential and boundary operators and their important properties are summarised in chapter 1 of [Matthew Scroggs's PhD thesis](https://discovery.ucl.ac.uk/id/eprint/10090630/).\n",
    "\n",
    "A more mathematically thorough description of these operators can be found in [Olaf Steinbach's book](https://www.springer.com/gp/book/9780387313122)."
   ]
  },
  {
   "cell_type": "markdown",
   "metadata": {},
   "source": [
    "## Citing Bempp\n",
    "\n",
    "If you use Bempp in your research, we would appreciate if you cite the Bempp-cl JOSS Paper:\n",
    "\n",
    "- T. Betcke & M. W. Scroggs. Bempp-cl: A fast Python based just-in-time compiling boundary element library, Journal of Open Source Software 6(59) (2021) 2879. [doi.org/10.21105/joss.02879](https://doi.org/10.21105/joss.02879)\n",
    "\n",
    "If you want to cite these tutorials and exercises directly, you can cite them as:\n",
    "\n",
    "- M. W. Scroggs & J. A. Hargreaves. Bempp acoustics exercises (2021). Available online: [github.com/mscroggs/bempp-acoustic-tutorials](https://github.com/mscroggs/bempp-acoustic-tutorials)"
   ]
  }
 ],
 "metadata": {
  "kernelspec": {
   "display_name": "Python 3",
   "language": "python",
   "name": "python3"
  },
  "language_info": {
   "codemirror_mode": {
    "name": "ipython",
    "version": 3
   },
   "file_extension": ".py",
   "mimetype": "text/x-python",
   "name": "python",
   "nbconvert_exporter": "python",
   "pygments_lexer": "ipython3",
   "version": "3.8.10"
  }
 },
 "nbformat": 4,
 "nbformat_minor": 4
}
